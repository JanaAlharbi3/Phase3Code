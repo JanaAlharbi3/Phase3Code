{
  "nbformat": 4,
  "nbformat_minor": 0,
  "metadata": {
    "colab": {
      "provenance": []
    },
    "kernelspec": {
      "name": "python3",
      "display_name": "Python 3"
    },
    "language_info": {
      "name": "python"
    }
  },
  "cells": [
    {
      "cell_type": "code",
      "execution_count": null,
      "metadata": {
        "colab": {
          "base_uri": "https://localhost:8080/"
        },
        "id": "JxxyzUfDlrYs",
        "outputId": "ed60da54-b580-4b8d-c7ec-13e2cec07146"
      },
      "outputs": [
        {
          "output_type": "stream",
          "name": "stdout",
          "text": [
            "Optimal Path: [8, 3, 1, 7, 2, 0, 4, 5, 6, 8]\n",
            "Total Distance Of The Optimal Path: 1444.9\n",
            "Computinal tima:  0.004235744476318359\n"
          ]
        }
      ],
      "source": [
        "import numpy as np\n",
        "import random\n",
        "from scipy.spatial import distance\n",
        "import time\n",
        "# for computational time\n",
        "start = time.time()\n",
        "\n",
        "# Function to find the nearest unvisited city from the current city\n",
        "def find_nearest_city(curr_city, visited):\n",
        "    min_distance = float('inf')  # Initialize the minimum distance to infinity\n",
        "    nearest_city = None  # Initialize the nearest city to None\n",
        "    for city in range(n):  # Loop through all cities\n",
        "        if not visited[city] and tsp_g[curr_city][city] < min_distance:  # Check if the city is unvisited and the distance to it is less than the current minimum distance\n",
        "            min_distance = tsp_g[curr_city][city]  # Update the minimum distance\n",
        "            nearest_city = city  # Update the nearest city\n",
        "    return nearest_city  # Return the index of the nearest unvisited city\n",
        "\n",
        "# Function to find the greedy path\n",
        "def greedy_travelling_salesman(start_city):\n",
        "    global cost, min_cost, min_path  # Allow modification of global variables\n",
        "    visited = [False] * n  # Initialize a list to track visited cities\n",
        "    visited[start_city] = True  # Mark the starting city as visited\n",
        "    current_city = start_city  # Set the current city to the starting city\n",
        "    path = [current_city]  # Initialize the path with the starting city\n",
        "    total_distance = 0  # Initialize the total distance traveled\n",
        "\n",
        "    for _ in range(n - 1):  # Loop n-1 times to visit all other cities\n",
        "        nearest_city = find_nearest_city(current_city, visited)  # Find the nearest unvisited city\n",
        "        path.append(nearest_city)  # Add the nearest city to the path\n",
        "        visited[nearest_city] = True  # Mark the nearest city as visited\n",
        "        total_distance += tsp_g[current_city][nearest_city]  # Update the total distance\n",
        "        current_city = nearest_city  # Move to the nearest city as the current city\n",
        "\n",
        "    total_distance += tsp_g[current_city][start_city]  # Add distance back to starting city to complete the loop\n",
        "    path.append(start_city)  # Add the starting city to complete the path\n",
        "\n",
        "    if total_distance < min_cost:  # Check if the total distance is less than the minimum cost found so far\n",
        "        min_cost = total_distance  # Update the minimum cost\n",
        "        min_path = path  # Update the minimum path\n",
        "\n",
        "# Define the number of cities and coordinate range\n",
        "n = 9\n",
        "min_coord = 0\n",
        "max_coord = 100\n",
        "\n",
        "# Generate random instance\n",
        "cities = np.random.uniform(min_coord, max_coord, size=(n, 2))  # Generate random city coordinates\n",
        "city_distances = distance.cdist(cities, cities)  # Calculate pairwise distances between cities\n",
        "\n",
        "# Initialize minimum cost and path\n",
        "min_cost = float('inf')  # Initialize the minimum cost to infinity\n",
        "min_path = []  # Initialize the minimum path\n",
        "\n",
        "# Set the starting city index\n",
        "start_city = random.randint(0, n - 1)  # Choose a random starting city index\n",
        "\n",
        "# Find the greedy path starting from the randomly chosen starting city\n",
        "greedy_travelling_salesman(start_city)\n",
        "\n",
        "# Print the optimal path with city indices\n",
        "print(\"Optimal Path:\", min_path)\n",
        "\n",
        "# Print the total distance\n",
        "print(\"Total Distance Of The Optimal Path:\", round(min_cost, 2))\n",
        "\n",
        "end = time.time()\n",
        "print(\"Computinal tima: \", end-start)"
      ]
    }
  ]
}
