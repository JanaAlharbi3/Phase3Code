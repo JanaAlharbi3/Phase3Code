{
  "nbformat": 4,
  "nbformat_minor": 0,
  "metadata": {
    "colab": {
      "provenance": []
    },
    "kernelspec": {
      "name": "python3",
      "display_name": "Python 3"
    },
    "language_info": {
      "name": "python"
    }
  },
  "cells": [
    {
      "cell_type": "code",
      "execution_count": 24,
      "metadata": {
        "colab": {
          "base_uri": "https://localhost:8080/"
        },
        "id": "H7s1cRlbnakh",
        "outputId": "415ef118-1600-4308-c0b8-1c09b5f0bada"
      },
      "outputs": [
        {
          "output_type": "stream",
          "name": "stdout",
          "text": [
            "Initial Route: ['Riyadh', 'Hail', 'Yanbu', 'Taif', 'Abha', 'Makkah', 'Jazan', 'Madinah', 'Jeddah']\n",
            "Improved Route: ['Riyadh', 'Yanbu', 'Madinah', 'Abha', 'Makkah', 'Hail', 'Taif', 'Jazan', 'Jeddah']\n",
            "Initial Route Distance: 39.045156931119564\n",
            "Improved Route Distance: 18.175556886371798\n"
          ]
        }
      ],
      "source": [
        "import random\n",
        "\n",
        "# Function to calculate the Euclidean distance between two cities\n",
        "def distance(city1, city2):\n",
        "    return ((city1[0] - city2[0])**2 + (city1[1] - city2[1])**2)**0.5\n",
        "\n",
        "# Function to calculate the total distance of a route passing through all cities\n",
        "def total_distance(route, cities):\n",
        "    total = 0\n",
        "    for i in range(len(route)):\n",
        "        total += distance(cities[route[i]], cities[route[(i + 1) % len(route)]])\n",
        "    return total\n",
        "\n",
        "# Function implementing the 2-opt algorithm for optimizing the route\n",
        "def two_opt(route, cities):\n",
        "    improved = True\n",
        "    while improved:\n",
        "        improved = False\n",
        "        # Loop through all pairs of cities in the route\n",
        "        for i in range(1, len(route) - 2):\n",
        "            for j in range(i + 1, len(route)):\n",
        "                # Skip if the cities are adjacent\n",
        "                if j - i == 1:\n",
        "                    continue\n",
        "                # Apply 2-opt swap to generate a new route\n",
        "                new_route = route[:]\n",
        "                new_route[i:j] = route[j - 1:i - 1:-1]\n",
        "                # If the new route is shorter, update the route\n",
        "                if total_distance(new_route, cities) < total_distance(route, cities):\n",
        "                    route = new_route\n",
        "                    improved = True\n",
        "        if improved:\n",
        "            break\n",
        "    return route\n",
        "\n",
        "# Main function to define cities, generate initial route, and apply 2-opt algorithm\n",
        "def main():\n",
        "    # Define cities and their coordinates\n",
        "    cities = {\n",
        "        \"Hail\": (0, 7),\n",
        "        \"Madinah\": (3, 2),\n",
        "        \"Yanbu\": (3, 2),\n",
        "        \"Jeddah\": (5, 4),\n",
        "        \"Makkah\": (2, 0),\n",
        "        \"Taif\": (0, 7),\n",
        "        \"Abha\": (3, 2),\n",
        "        \"Riyadh\": (3, 2),\n",
        "        \"Jazan\": (5, 4),\n",
        "    }\n",
        "    # Generate initial route by shuffling city names\n",
        "    initial_route = list(cities.keys())\n",
        "    random.shuffle(initial_route)\n",
        "    # Apply 2-opt algorithm to optimize the route\n",
        "    improved_route = two_opt(initial_route, cities)\n",
        "\n",
        "    # Print the initial and improved routes along with their distances\n",
        "    print(\"Initial Route:\", initial_route)\n",
        "    print(\"Improved Route:\", improved_route)\n",
        "    print(\"Initial Route Distance:\", total_distance(initial_route, cities))\n",
        "    print(\"Improved Route Distance:\", total_distance(improved_route, cities))\n",
        "\n",
        "if __name__ == \"__main__\":\n",
        "    main()\n",
        "\n"
      ]
    }
  ]
}